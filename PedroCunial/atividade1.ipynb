{
 "cells": [
  {
   "cell_type": "code",
   "execution_count": 2,
   "metadata": {
    "collapsed": false
   },
   "outputs": [
    {
     "name": "stdout",
     "output_type": "stream",
     "text": [
      "14.392726722864989\n"
     ]
    }
   ],
   "source": [
    "def soma_harm(n):\n",
    "    soma = 0.0\n",
    "    for i in range(1,n+1):\n",
    "        soma += 1.0/float(i)\n",
    "    return soma\n",
    "\n",
    "print(soma_harm(1000000))"
   ]
  },
  {
   "cell_type": "code",
   "execution_count": 3,
   "metadata": {
    "collapsed": false
   },
   "outputs": [
    {
     "name": "stdout",
     "output_type": "stream",
     "text": [
      "14.392726222864274\n"
     ]
    }
   ],
   "source": [
    "import math\n",
    "\n",
    "print(math.log(1000000) + 0.5772156649)"
   ]
  },
  {
   "cell_type": "code",
   "execution_count": 8,
   "metadata": {
    "collapsed": false
   },
   "outputs": [
    {
     "name": "stdout",
     "output_type": "stream",
     "text": [
      "233168\n"
     ]
    }
   ],
   "source": [
    "print(sum([x for x in range(1000) if x % 3 == 0 or x % 5 == 0]))"
   ]
  },
  {
   "cell_type": "code",
   "execution_count": 10,
   "metadata": {
    "collapsed": false
   },
   "outputs": [
    {
     "name": "stdout",
     "output_type": "stream",
     "text": [
      "233168\n"
     ]
    }
   ],
   "source": [
    "soma = 0\n",
    "for i in range(1000):\n",
    "    if i % 3 == 0 or i % 5 == 0:\n",
    "        soma += i\n",
    "        \n",
    "print(soma)"
   ]
  },
  {
   "cell_type": "code",
   "execution_count": 18,
   "metadata": {
    "collapsed": false
   },
   "outputs": [
    {
     "name": "stdout",
     "output_type": "stream",
     "text": [
      "4613732\n"
     ]
    }
   ],
   "source": [
    "n = 4000000\n",
    "\n",
    "a = 1\n",
    "b = 2\n",
    "soma = 2\n",
    "c = a + b\n",
    "\n",
    "while c < n:\n",
    "    c = a + b\n",
    "    if c % 2 == 0:\n",
    "        soma += c\n",
    "    a = b\n",
    "    b = c\n",
    "        \n",
    "print(soma)"
   ]
  },
  {
   "cell_type": "code",
   "execution_count": 20,
   "metadata": {
    "collapsed": false
   },
   "outputs": [
    {
     "data": {
      "text/plain": [
       "6857"
      ]
     },
     "execution_count": 20,
     "metadata": {},
     "output_type": "execute_result"
    }
   ],
   "source": [
    "n = 600851475143\n",
    "d = 2\n",
    "\n",
    "while n > 1:\n",
    "    if n % d == 0:\n",
    "        n = n / d\n",
    "    else:\n",
    "        d += 1\n",
    "        \n",
    "d"
   ]
  },
  {
   "cell_type": "code",
   "execution_count": 21,
   "metadata": {
    "collapsed": false
   },
   "outputs": [
    {
     "data": {
      "text/plain": [
       "6857"
      ]
     },
     "execution_count": 21,
     "metadata": {},
     "output_type": "execute_result"
    }
   ],
   "source": [
    "n = 600851475143\n",
    "d = 2\n",
    "\n",
    "while n > 1:\n",
    "    if n % d == 0:\n",
    "        n = n / d\n",
    "    else:\n",
    "        d += 1\n",
    "        \n",
    "d"
   ]
  },
  {
   "cell_type": "code",
   "execution_count": 25,
   "metadata": {
    "collapsed": false
   },
   "outputs": [
    {
     "name": "stdout",
     "output_type": "stream",
     "text": [
      "906609 913 993\n"
     ]
    }
   ],
   "source": [
    "max_prod = 10000\n",
    "max_i = 0\n",
    "max_j = 0\n",
    "for i in range(100, 1000):\n",
    "    for j in range(i, 1000):\n",
    "        prod = i * j\n",
    "        if prod == int(str(prod)[::-1]):\n",
    "            if prod > max_prod:\n",
    "                max_prod = prod\n",
    "                max_i = i\n",
    "                max_j = j\n",
    "                \n",
    "                \n",
    "print(max_prod, max_i, max_j)"
   ]
  },
  {
   "cell_type": "code",
   "execution_count": 1,
   "metadata": {
    "collapsed": false
   },
   "outputs": [
    {
     "data": {
      "text/plain": [
       "232792560"
      ]
     },
     "execution_count": 1,
     "metadata": {},
     "output_type": "execute_result"
    }
   ],
   "source": [
    "def gcd(a,b):\n",
    "    if b == 0:\n",
    "        return a\n",
    "    return gcd(b, a % b)\n",
    "\n",
    "def mmc(a,b):\n",
    "    return int(a * b / gcd(a,b))\n",
    "\n",
    "numero = mmc(1,2) \n",
    "for i in range(3,21):\n",
    "    numero = mmc(numero, i)\n",
    "    \n",
    "numero"
   ]
  },
  {
   "cell_type": "code",
   "execution_count": 3,
   "metadata": {
    "collapsed": false
   },
   "outputs": [
    {
     "name": "stdout",
     "output_type": "stream",
     "text": [
      "25164150\n"
     ]
    }
   ],
   "source": [
    "def ex6(n):\n",
    "    soma_quadrados = 0\n",
    "    soma_ao_quadrado = 0\n",
    "    for i in range(1,n + 1):\n",
    "        soma_quadrados += i**2\n",
    "        soma_ao_quadrado += i\n",
    "    \n",
    "    soma_ao_quadrado = soma_ao_quadrado**2\n",
    "    return (soma_ao_quadrado - soma_quadrados)\n",
    "\n",
    "print(ex6(100))"
   ]
  },
  {
   "cell_type": "code",
   "execution_count": 10,
   "metadata": {
    "collapsed": false
   },
   "outputs": [
    {
     "name": "stdout",
     "output_type": "stream",
     "text": [
      "103801\n"
     ]
    }
   ],
   "source": [
    "def primo(numero):\n",
    "    if numero <= 1:\n",
    "        return False\n",
    "    else:\n",
    "        for i in range (2, int(numero ** (1/2))):\n",
    "            if numero % i == 0:\n",
    "                return False\n",
    "    return True\n",
    "\n",
    "\n",
    "def ex7(n):\n",
    "    cont = 0\n",
    "    numero = 1\n",
    "    while cont < n:\n",
    "        numero += 1\n",
    "        if primo(numero):\n",
    "            cont += 1\n",
    "    return numero     \n",
    "\n",
    "\n",
    "print(ex7(10001))"
   ]
  },
  {
   "cell_type": "code",
   "execution_count": null,
   "metadata": {
    "collapsed": true
   },
   "outputs": [],
   "source": []
  }
 ],
 "metadata": {
  "kernelspec": {
   "display_name": "Python 3",
   "language": "python",
   "name": "python3"
  },
  "language_info": {
   "codemirror_mode": {
    "name": "ipython",
    "version": 3
   },
   "file_extension": ".py",
   "mimetype": "text/x-python",
   "name": "python",
   "nbconvert_exporter": "python",
   "pygments_lexer": "ipython3",
   "version": "3.4.3"
  }
 },
 "nbformat": 4,
 "nbformat_minor": 0
}
